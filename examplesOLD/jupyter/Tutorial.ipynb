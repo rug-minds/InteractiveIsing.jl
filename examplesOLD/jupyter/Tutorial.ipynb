{
 "cells": [
  {
   "cell_type": "markdown",
   "metadata": {},
   "source": [
    "# Interactive Ising Simulation Tutorial"
   ]
  },
  {
   "cell_type": "code",
   "execution_count": 1,
   "metadata": {},
   "outputs": [
    {
     "name": "stderr",
     "output_type": "stream",
     "text": [
      "┌ Info: Precompiling InteractiveIsing [4d251d0e-e9cc-4969-a014-b26a68f98433]\n",
      "└ @ Base loading.jl:1664\n",
      "┌ Info: Skipping precompilation since __precompile__(false). Importing InteractiveIsing [4d251d0e-e9cc-4969-a014-b26a68f98433].\n",
      "└ @ Base loading.jl:1341\n"
     ]
    }
   ],
   "source": [
    "# Use package\n",
    "using InteractiveIsing"
   ]
  },
  {
   "cell_type": "markdown",
   "metadata": {},
   "source": [
    "### Start the simulation interface"
   ]
  },
  {
   "cell_type": "code",
   "execution_count": 2,
   "metadata": {},
   "outputs": [
    {
     "name": "stdout",
     "output_type": "stream",
     "text": [
      "Brush used -1.0\n",
      "Drew circle at y=148 and x=197\n",
      "Brush used -1.0\n",
      "Drew circle at y=377 and x=50\n",
      "Brush used 1.0\n",
      "Drew circle at y=244 and x=178\n"
     ]
    }
   ],
   "source": [
    "# Create a sim struct with, which has a non-continuous 500x500 weighted graph\n",
    "const sim = IsingSim(\n",
    "    continuous = false, \n",
    "    graphSize = 500, \n",
    "    weighted = true\n",
    ")\n",
    "\n",
    "# Start the interface and run the simulation\n",
    "g = sim(true);"
   ]
  },
  {
   "cell_type": "code",
   "execution_count": null,
   "metadata": {},
   "outputs": [],
   "source": []
  }
 ],
 "metadata": {
  "kernelspec": {
   "display_name": "Julia 1.8.2",
   "language": "julia",
   "name": "julia-1.8"
  },
  "language_info": {
   "file_extension": ".jl",
   "mimetype": "application/julia",
   "name": "julia",
   "version": "1.8.2"
  },
  "orig_nbformat": 4,
  "vscode": {
   "interpreter": {
    "hash": "31f2aee4e71d21fbe5cf8b01ff0e069b9275f58929596ceb00d14d90e3e16cd6"
   }
  }
 },
 "nbformat": 4,
 "nbformat_minor": 2
}
