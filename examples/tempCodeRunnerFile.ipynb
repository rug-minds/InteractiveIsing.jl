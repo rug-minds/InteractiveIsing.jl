genAdj!(l1, wg1)
