{
 "cells": [
  {
   "cell_type": "markdown",
   "metadata": {
    "slideshow": {
     "slide_type": "slide"
    }
   },
   "source": [
    "\n",
    "# <center>  Tutorial 20 Nov </center>\n",
    "# <center>  Structure at Macro, Meso and Nano Scale </center>\n",
    "\n",
    "## <center>  Fabian IJpelaar </center>\n",
    "### <center>f.ijpelaar@rug.nl </center>\n",
    "---\n"
   ]
  },
  {
   "cell_type": "markdown",
   "metadata": {},
   "source": [
    "# My current project: Building a library for fast simulations of Ising models\n",
    "- ## We hope that Ising models can provide a bridge between machine learning and material (neuromorphic) computing\n",
    "___\n",
    "\n",
    "## Topics:\n",
    "### - Introduction into Monte Carlo\n",
    "### - Demonstrations of the Ising Model\n",
    "### - Ising Models in Machine Learning: The Boltzmann Machine"
   ]
  },
  {
   "cell_type": "markdown",
   "metadata": {},
   "source": [
    "# Monte Carlo Simulations\n",
    "- Monte Carlo methods are a class of computational algorithms where we use use random samples to obtain numerical results\n",
    "- I.e. we might want to calculate averages of some function $\\langle f(x) \\rangle = \\sum_{x} f(x) p(x)$\n",
    "- Or we might want to generate examples from a probability distirbution"
   ]
  },
  {
   "cell_type": "markdown",
   "metadata": {},
   "source": [
    "# Monte Carlo Example\n",
    "## Estimate $\\pi$\n",
    "<center><img src=\"Circle.png\" width=\"250\" align=\"center\"/></center>\n",
    "\n",
    "### Probability to be in circle: $p_{in} = \\frac {A_{Circle}} {A_{Total}} = \\frac \\pi 4$"
   ]
  },
  {
   "cell_type": "code",
   "execution_count": 13,
   "metadata": {},
   "outputs": [
    {
     "data": {
      "text/plain": [
       "PTimer(InteractiveIsing.var\"#490#492\"{var\"#update#115\"{Observable{Int64}, Observable{Int64}, Observable{Vector{Point{2, Float32}}}, Observable{Vector{Point{2, Float32}}}}}(var\"#update#115\"{Observable{Int64}, Observable{Int64}, Observable{Vector{Point{2, Float32}}}, Observable{Vector{Point{2, Float32}}}}(Observable(0), Observable(2), Observable(Point{2, Float32}[]), Observable(Point{2, Float32}[[0.18154389, 0.272103], [0.39330447, 0.27272093]]))), Timer(Ptr{Nothing} @0x00000002e918a7d0, Base.GenericCondition{Base.Threads.SpinLock}(Base.IntrusiveLinkedList{Task}(Task (runnable) @0x00000002da7433a0, Task (runnable) @0x00000002da7433a0), Base.Threads.SpinLock(0)), true, false), 0.0, 0.016666666666666666)"
      ]
     },
     "metadata": {},
     "output_type": "display_data"
    }
   ],
   "source": [
    "include(\"MakiePi.jl\")\n",
    "estimatePi()"
   ]
  },
  {
   "cell_type": "markdown",
   "metadata": {},
   "source": [
    "# Markov Chain Monte Carlo\n",
    "### - Generating states out of the whole state space with appropriate probability might be hard\n",
    "### - Solution: Limit generation of states to states that are in the neighborhood, \n",
    "### - And define transition probabilities $P(newstate|oldstate)$\n",
    "\n",
    "### We create a random walk through state space\n",
    "<center><img src=\"Markov Chain.png\" width=\"300\" align=\"center\"/></center>\n"
   ]
  },
  {
   "cell_type": "markdown",
   "metadata": {},
   "source": [
    "# Metropolis Algorithm for Ising Models:\n",
    "<img src=\"Metropolis.png\" width=\"400\" align=\"center\"/>\n",
    "\n",
    "### For each spin in the lattice:\n",
    "1. Randomly select a spin in the lattice.\n",
    "\n",
    "2. ΔE: Calculate the energy change if that spin would be flipped.\n",
    "\n",
    "3. If ΔE <= 0 (energy is lowered):\n",
    "       \n",
    "    - Flip the spin (accept the new state).\n",
    "\n",
    "4. Else (ΔE > 0):\n",
    "       \n",
    "    - Calculate the acceptance factor, $e^{-\\betaΔE}$ i.e. the \"Boltzmann Factor\"\n",
    "            \n",
    "    - r: Generate a random number between 0 and 1.\n",
    "            \n",
    "    - If $r < e^{-\\betaΔE}$:\n",
    "        - Flip the spin (accept the new state despite higher energy).\n",
    "        \n",
    "    - Else: Do not flip the spin (reject the new state).\n",
    "5. Go to 1\n",
    "\n",
    "##### If we choose the acceptance factor to be the Boltzmann factor, over long enough time the distribution will be the same as the Boltzmann Distribution\n",
    "##### $$ P(\\sigma_1,\\sigma_2,...) = \\frac 1 Z e^{-\\beta H} $$\n",
    "\n"
   ]
  },
  {
   "cell_type": "code",
   "execution_count": 1,
   "metadata": {
    "slideshow": {
     "slide_type": "slide"
    }
   },
   "outputs": [
    {
     "name": "stdout",
     "output_type": "stream",
     "text": [
      "Starting Interface\n"
     ]
    },
    {
     "name": "stdout",
     "output_type": "stream",
     "text": [
      "Displaying\n"
     ]
    }
   ],
   "source": [
    "using IJulia\n",
    "using InteractiveIsing"
   ]
  },
  {
   "cell_type": "markdown",
   "metadata": {},
   "source": [
    "# Initializing the graph and starting the simulation"
   ]
  },
  {
   "cell_type": "code",
   "execution_count": 2,
   "metadata": {},
   "outputs": [
    {
     "ename": "UndefVarError",
     "evalue": "UndefVarError: `LayerWindow` not defined",
     "output_type": "error",
     "traceback": [
      "UndefVarError: `LayerWindow` not defined\n",
      "\n",
      "Stacktrace:\n",
      " [1] top-level scope\n",
      "   @ ~/Library/Mobile Documents/com~apple~CloudDocs/Documents/PhD/JuliaProjects/InteractiveIsing.jl/examples/Tutorial/Tutorial.ipynb:8"
     ]
    }
   ],
   "source": [
    "# Create the graph\n",
    "ig = IsingGraph(200,200, type = Discrete)\n",
    "# \n",
    "simulate(ig, gui = false)\n",
    "\n",
    "# Generate the weights for the IsingModel\n",
    "wg = @WG \"dr -> dr == 1 ? 1 : 0\" NN=1\n",
    "genAdj!(ig[1], wg)\n",
    "\n",
    "# Create a screen to display the graph\n",
    "layerwindow = LayerWindow(ig[1]);"
   ]
  },
  {
   "cell_type": "markdown",
   "metadata": {},
   "source": [
    "# Demonstation of the Second Order Phase Transition in the Ising Model"
   ]
  },
  {
   "cell_type": "code",
   "execution_count": 20,
   "metadata": {},
   "outputs": [],
   "source": [
    "w = createAnalysisWindow(ig, MT_panel, tstep = 0.01);"
   ]
  },
  {
   "cell_type": "markdown",
   "metadata": {},
   "source": [
    "# Demonstration of Hysteresis\n",
    "- ### Q: Why do we get hysteresis here?"
   ]
  },
  {
   "cell_type": "code",
   "execution_count": 21,
   "metadata": {},
   "outputs": [],
   "source": [
    "w = createAnalysisWindow(ig, MB_panel);"
   ]
  },
  {
   "cell_type": "markdown",
   "metadata": {},
   "source": [
    "# Demonstration of Divergence of Isothermal Susceptibility\n",
    "\n",
    "- ### We can get the Isothermal Susceptibility from the fluctuations in samples we take of the magnetization\n",
    "- ### $\\chi_T = \\left( \\frac{\\partial M}{\\partial H} \\right)_T = \\beta ( \\langle M^2 \\rangle - \\langle |M| \\rangle ^2)$"
   ]
  },
  {
   "cell_type": "code",
   "execution_count": 22,
   "metadata": {},
   "outputs": [],
   "source": [
    "w = createAnalysisWindow(ig, χₘ_panel, Tχ_panel, shared_interval = 1/500, tstep = 0.01);"
   ]
  },
  {
   "cell_type": "markdown",
   "metadata": {},
   "source": [
    "# The Anti-Ferromagnetic Ising Model"
   ]
  },
  {
   "cell_type": "code",
   "execution_count": 24,
   "metadata": {},
   "outputs": [],
   "source": [
    "# If distance is one, connection is -1\n",
    "wg = @WG \"dr -> dr == 1 ? -1 : 0\" NN=1 \n",
    "genAdj!(ig[1], wg)\n",
    "simulate(ig)"
   ]
  },
  {
   "cell_type": "markdown",
   "metadata": {},
   "source": [
    "# Boltzmann Machine\n",
    "## How do Ising models relate to Machine Learning?\n",
    "\n",
    "### Example: Learning statistics from MNIST\n",
    "- The MNIST dataset contains images of handrwritten letters of 28x28 pixels\n",
    "\n",
    "- These define a probability distribution over the pixels $ P_{data}(s_1,s_2,...)$\n",
    "\n",
    "<img src=\"MNIST.jpg\" width=\"750\" />\n",
    "\n",
    "### Boltzmann Machine: Take Ising Model and partition into two sets\n",
    "<img src=\"BM.png\" width=\"300\" />\n",
    "\n",
    "##### Visible units $v_i$, hidden units $h_i$\n",
    "##### Probability distribution over visible units $P_v(W_{ij}) = \\sum_h \\frac 1 Z e^{-BH}$\n",
    "##### Where $H = -\\sum_{ij} W_{ij}\\sigma_i\\sigma_j -\\sum_{i} b_i \\sigma_i$\n",
    "\n",
    "#### Function that gives us the similarity of distributions: KL-Divergence\n",
    "\n",
    "#### $KL(P_{data}, P_v) = KL(W_{ij}) = \\sum_{all states} P_{data} \\log \\left( \\frac{P_{data}}{P_v}\\right)$\n",
    "\n",
    "- #### Gives us a scalar value that decreases when the distributions are similar, increases when they are less similar\n",
    "- #### $P_{data}$ is fixed, so we can take the derivative w.r.t. the entries in the connection matrix $W_{ij}$\n",
    "- #### $\\frac{\\partial KL}{\\partial W_{ij}} = -\\beta (\\langle \\sigma_i \\sigma_j\\rangle_{data} - \\langle \\sigma_i \\sigma_j \\rangle_{free}) = -\\beta (p_{ij}^{data}-p_{ij}^{free})$\n"
   ]
  },
  {
   "cell_type": "code",
   "execution_count": 8,
   "metadata": {},
   "outputs": [],
   "source": [
    "closewindow(layerwindow)\n",
    "\n",
    "ig = IsingGraph(architecture = [(28,28, Discrete), (32,32, Discrete)], sets = [(0,1),(0,1)])\n",
    "simulate(ig, overwrite = true)\n",
    "w2 = LayerWindow(ig[2])\n"
   ]
  },
  {
   "cell_type": "markdown",
   "metadata": {},
   "source": [
    "# Visualizing the Connections"
   ]
  },
  {
   "cell_type": "code",
   "execution_count": 1,
   "metadata": {},
   "outputs": [
    {
     "ename": "UndefVarError",
     "evalue": "UndefVarError: `ig` not defined",
     "output_type": "error",
     "traceback": [
      "UndefVarError: `ig` not defined\n",
      "\n",
      "Stacktrace:\n",
      " [1] top-level scope\n",
      "   @ ~/Library/Mobile Documents/com~apple~CloudDocs/Documents/PhD/JuliaProjects/InteractiveIsing.jl/examples/Tutorial/Tutorial.ipynb:2"
     ]
    }
   ],
   "source": [
    "include(\"ImageGrid.jl\")\n",
    "creategrid(conns(ig[1],ig[2]), (28,28), (5,5))"
   ]
  },
  {
   "cell_type": "code",
   "execution_count": null,
   "metadata": {},
   "outputs": [],
   "source": []
  }
 ],
 "metadata": {
  "kernelspec": {
   "display_name": "Julia 1.10.0-rc1",
   "language": "julia",
   "name": "julia-1.10"
  },
  "language_info": {
   "file_extension": ".jl",
   "mimetype": "application/julia",
   "name": "julia",
   "version": "1.10.0-rc1"
  }
 },
 "nbformat": 4,
 "nbformat_minor": 2
}
