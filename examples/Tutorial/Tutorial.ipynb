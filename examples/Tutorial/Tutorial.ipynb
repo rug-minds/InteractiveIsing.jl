{
 "cells": [
  {
   "cell_type": "markdown",
   "metadata": {
    "slideshow": {
     "slide_type": "slide"
    }
   },
   "source": [
    "\n",
    "# <center>  Tutorial 20 Nov </center>\n",
    "# <center>  Structure at Macro, Meso and Nano Scale </center>\n",
    "\n",
    "## <center>  Fabian IJpelaar </center>\n",
    "### <center>f.ijpelaar@rug.nl </center>\n",
    "---\n"
   ]
  },
  {
   "cell_type": "markdown",
   "metadata": {},
   "source": [
    "# My current project: Building a library for fast simulations of Ising models\n",
    "- ## We hope that Ising models can provide a bridge between machine learning and material (neuromorphic) computing\n",
    "___\n",
    "\n",
    "## Topics:\n",
    "### - Introduction into Monte Carlo Simulations\n",
    "### - Demonstrations of the Ising Model\n",
    "### - Ising Models in Machine Learning: The Boltzmann Machine"
   ]
  },
  {
   "cell_type": "markdown",
   "metadata": {},
   "source": [
    "# Monte Carlo Simulations\n",
    "- Monte Carlo methods are a class of computational algorithms where we use use random samples to obtain numerical results\n",
    "- I.e. we might want to estimate averages of some function $\\langle f(x) \\rangle = \\sum_{x} f(x) p(x)$\n",
    "- Or we might want to generate examples from a probability distirbution"
   ]
  },
  {
   "cell_type": "markdown",
   "metadata": {},
   "source": [
    "# Monte Carlo\n",
    "## Well Known Example: Estimate $\\pi$\n",
    "<center><img src=\"Circle.png\" width=\"400\" align=\"center\"/></center>\n",
    "\n",
    "### Probability to be in circle: $p_{in} = \\frac {A_{Circle}} {A_{Total}} = \\frac \\pi 4$"
   ]
  },
  {
   "cell_type": "code",
   "execution_count": 1,
   "metadata": {},
   "outputs": [
    {
     "name": "stderr",
     "output_type": "stream",
     "text": [
      "WARNING: Method definition (::Type{InteractiveIsing.Self})() in module InteractiveIsing at /Users/fabian/Library/Mobile Documents/com~apple~CloudDocs/Documents/PhD/JuliaProjects/InteractiveIsing.jl/src/AdjList/WeightGenerator.jl:219 overwritten at /Users/fabian/Library/Mobile Documents/com~apple~CloudDocs/Documents/PhD/JuliaProjects/InteractiveIsing.jl/src/AdjList/ConnectionGenerators.jl:2.\n",
      "ERROR: Method overwriting is not permitted during Module precompilation. Use `__precompile__(false)` to opt-out of precompilation.\n"
     ]
    },
    {
     "data": {
      "text/plain": [
       "Observable(4.0)\n",
       "    0 => map((::var\"#11#16\")(\u001b[90mest\u001b[39m)\u001b[90m @\u001b[39m \u001b[90mMain\u001b[39m \u001b[90m~/Library/Mobile Documents/com~apple~CloudDocs/Documents/PhD/JuliaProjects/InteractiveIsing.jl/examples/Tutorial/\u001b[39m\u001b[90m\u001b[4mMakiePi.jl:39\u001b[24m\u001b[39m)\n"
      ]
     },
     "metadata": {},
     "output_type": "display_data"
    }
   ],
   "source": [
    "include(\"MakiePi.jl\")\n",
    "pi_est = estimatePi()"
   ]
  },
  {
   "cell_type": "markdown",
   "metadata": {},
   "source": [
    "# Markov Chain Monte Carlo\n",
    "### - Generating states out of the whole state space with appropriate probability might be hard\n",
    "### - Solution: Limit generation of states to states that are in the neighborhood, \n",
    "### - And define transition probabilities $P(newstate|oldstate)$\n",
    "\n",
    "### We create a random walk through state space\n",
    "<center><img src=\"Markov Chain.png\" width=\"300\" align=\"center\"/></center>\n",
    "\n",
    "____\n"
   ]
  },
  {
   "cell_type": "markdown",
   "metadata": {},
   "source": [
    "# Metropolis Algorithm for Ising Models:\n",
    "<img src=\"Metropolis.png\" width=\"400\" align=\"center\"/>\n",
    "\n",
    "### For each spin in the lattice:\n",
    "1. Randomly select a spin in the lattice.\n",
    "\n",
    "2. ΔE: Calculate the energy change if that spin would be flipped.\n",
    "\n",
    "3. If ΔE <= 0 (energy is lowered):\n",
    "       \n",
    "    - Flip the spin (accept the new state).\n",
    "    \n",
    "    - Go to 1.\n",
    "\n",
    "4. Else (ΔE > 0):\n",
    "       \n",
    "    - Calculate the acceptance factor, $e^{-\\betaΔE}$ i.e. the \"Boltzmann Factor\"\n",
    "            \n",
    "    - r: Generate a random number between 0 and 1.\n",
    "            \n",
    "    - If $r < e^{-\\betaΔE}$:\n",
    "        - Flip the spin (accept the new state despite higher energy).\n",
    "        \n",
    "    - Else: Do not flip the spin (reject the new state).\n",
    "5. Go to 1.\n",
    "\n",
    "##### If we choose the acceptance factor to be the Boltzmann factor, over long enough time the distribution will be the same as the Boltzmann Distribution\n",
    "##### $$ P(\\sigma_1,\\sigma_2,...) = \\frac 1 Z e^{-\\beta H} $$\n",
    "____\n"
   ]
  },
  {
   "cell_type": "markdown",
   "metadata": {},
   "source": [
    "# Initializing the graph and starting the simulation\n",
    "##### $H = -\\sum_{ij} W_{ij}\\sigma_i\\sigma_j -\\sum_{i} b_i \\sigma_i$"
   ]
  },
  {
   "cell_type": "code",
   "execution_count": 1,
   "metadata": {},
   "outputs": [],
   "source": [
    "using InteractiveIsing\n",
    "\n",
    "# Create the graph\n",
    "ig = IsingGraph(200,200, type = Discrete)\n",
    "# \n",
    "simulate(ig, gui = false, overwrite = true)\n",
    "\n",
    "# Generate the weights for the IsingModel\n",
    "wg = @WG \"dr -> dr == 1 ? 1 : 0\" NN=1\n",
    "genAdj!(ig[1], wg)\n",
    "\n",
    "# Create a screen to display the graph\n",
    "layerwindow = LayerWindow(ig[1]);"
   ]
  },
  {
   "cell_type": "markdown",
   "metadata": {},
   "source": [
    "# Demonstation of the Second Order Phase Transition in the Ising Model"
   ]
  },
  {
   "cell_type": "code",
   "execution_count": 26,
   "metadata": {},
   "outputs": [],
   "source": [
    "w = createAnalysisWindow(ig, MT_panel, tstep = 0.01);"
   ]
  },
  {
   "cell_type": "markdown",
   "metadata": {},
   "source": [
    "# Demonstration of Hysteresis\n",
    "- ### Q: Why do we get hysteresis here?"
   ]
  },
  {
   "cell_type": "code",
   "execution_count": 27,
   "metadata": {},
   "outputs": [],
   "source": [
    "w = createAnalysisWindow(ig, MB_panel);"
   ]
  },
  {
   "cell_type": "markdown",
   "metadata": {},
   "source": [
    "# Demonstration of Divergence of Isothermal Susceptibility\n",
    "\n",
    "- ### We can get the Isothermal Susceptibility from the fluctuations in samples we take of the magnetization\n",
    "- ### $\\chi_T = \\left( \\frac{\\partial M}{\\partial H} \\right)_T = \\beta ( \\langle M^2 \\rangle - \\langle |M| \\rangle ^2)$"
   ]
  },
  {
   "cell_type": "code",
   "execution_count": 28,
   "metadata": {},
   "outputs": [],
   "source": [
    "w = createAnalysisWindow(ig, χₘ_panel, Tχ_panel, shared_interval = 1/500, tstep = 0.01);"
   ]
  },
  {
   "cell_type": "markdown",
   "metadata": {},
   "source": [
    "# The Anti-Ferromagnetic Ising Model"
   ]
  },
  {
   "cell_type": "code",
   "execution_count": 29,
   "metadata": {},
   "outputs": [
    {
     "name": "stdout",
     "output_type": "stream",
     "text": [
      "Simulation already active, create a new one and overwrite it? [y/n]\n",
      "Character entered: y\n",
      "Starting Interface\n"
     ]
    },
    {
     "name": "stdout",
     "output_type": "stream",
     "text": [
      "Displaying\n"
     ]
    },
    {
     "data": {
      "text/plain": [
       "IsingGraph with 40000 states\n",
       "Layers:\n",
       "Discrete IsingLayer 1 with size (200, 200) and stateset (-1.0f0, 1.0f0)\n",
       " at coordinates (0, 0, 0)\n",
       " with connections:\n",
       "\tConnected to layer 1 using \n",
       " and 0 defects"
      ]
     },
     "metadata": {},
     "output_type": "display_data"
    },
    {
     "name": "stdout",
     "output_type": "stream",
     "text": [
      "\tWeightGenerator with\n",
      "\t NN: \t\t\t\t1\n",
      "\t func: \t\t\t\tdr -> dr == 1 ? -1 : 0\n"
     ]
    }
   ],
   "source": [
    "# If distance is one, connection is -1\n",
    "wg = @WG \"dr -> dr == 1 ? -1 : 0\" NN=1 \n",
    "genAdj!(ig[1], wg)\n",
    "simulate(ig, overwrite = true)"
   ]
  },
  {
   "cell_type": "markdown",
   "metadata": {},
   "source": [
    "# Boltzmann Machine\n",
    "## How do Ising models relate to Machine Learning?\n",
    "\n",
    "### Example: Learning statistics from MNIST\n",
    "- The MNIST dataset contains images of handrwritten letters of 28x28 pixels\n",
    "\n",
    "- These define a probability distribution over the pixels $ P_{data}(s_1,s_2,...)$\n",
    "\n",
    "<img src=\"MNIST.jpg\" width=\"750\" />\n",
    "\n",
    "___\n",
    "## Boltzmann Machine: We can nudge part of the distribution of the Ising Model towards the data distribution\n",
    "<img src=\"BM.png\" width=\"300\" />\n",
    "\n",
    "##### Visible units $v_i$, hidden units $h_i$\n",
    "##### Probability distribution over visible units $P_v(\\sigma_1, \\sigma_2, ...,W_{ij}) = \\sum_h \\frac 1 Z e^{-BH}$\n",
    "##### Where $H = -\\sum_{ij} W_{ij}\\sigma_i\\sigma_j$\n",
    "\n",
    "#### Function that gives us the similarity of distributions: KL-Divergence\n",
    "#### $KL(P^1,P^2) = \\sum_{all states} P^1 \\log\\left( \\frac {P^1}{P^2}\\right)$\n",
    "\n",
    "#### $KL(P_{data}, P_v) = \\sum_{all states} P_{data} \\log \\left( \\frac{P_{data}}{P_v}\\right) = KL(W_{ij})$\n",
    "\n",
    "- #### Gives us a scalar value that decreases when the distributions are similar, increases when they are less similar\n",
    "- #### $P_{data}$ is fixed, so we can take the derivative w.r.t. the entries in the connection matrix $W_{ij}$\n",
    "- #### $\\frac{\\partial KL}{\\partial W_{ij}} = -\\beta (\\langle \\sigma_i \\sigma_j\\rangle_{data} - \\langle \\sigma_i \\sigma_j \\rangle_{free}) = -\\beta (p_{ij}^{data}-p_{ij}^{free})$\n"
   ]
  },
  {
   "cell_type": "code",
   "execution_count": 2,
   "metadata": {},
   "outputs": [
    {
     "name": "stdout",
     "output_type": "stream",
     "text": [
      "Simulation already active, create a new one and overwrite it? [y/n]\n",
      "Character entered: y\n",
      "Starting Interface\n"
     ]
    },
    {
     "name": "stdout",
     "output_type": "stream",
     "text": [
      "Displaying\n"
     ]
    },
    {
     "data": {
      "text/plain": [
       "LayerWindow(Discrete IsingLayer 2 with size (32, 32) and stateset (0.0, 1.0)\n",
       " at coordinates (0, 0, 1)\n",
       " with connections:\n",
       " and 0 defects, Scene (800px, 600px):\n",
       "  0 Plots\n",
       "  1 Child Scene:\n",
       "    └ Scene (800px, 600px), GLMakie.Screen(...), Dict{String, Any}(), PTimer(InteractiveIsing.var\"#489#491\"{InteractiveIsing.var\"#484#485\"{Observables.Observable{Base.ReshapedArray{Float64, 2, SubArray{Float64, 1, Vector{Float64}, Tuple{UnitRange{Int32}}, true}, Tuple{}}}}}(InteractiveIsing.var\"#484#485\"{Observables.Observable{Base.ReshapedArray{Float64, 2, SubArray{Float64, 1, Vector{Float64}, Tuple{UnitRange{Int32}}, true}, Tuple{}}}}(Observable([0.0 0.0 … 0.0 0.0; 0.0 0.0 … 0.0 0.0; … ; 0.0 0.0 … 0.0 0.0; 0.0 0.0 … 1.0 0.0]))), Timer(Ptr{Nothing} @0x00000002f0811480, Base.GenericCondition{Base.Threads.SpinLock}(Base.IntrusiveLinkedList{Task}(Task (runnable) @0x000000010d0ed5f0, Task (runnable) @0x000000010d0ed5f0), Base.Threads.SpinLock(0)), true, false), 0.0, 0.016666666666666666))"
      ]
     },
     "metadata": {},
     "output_type": "display_data"
    }
   ],
   "source": [
    "InteractiveIsing.closewindow(layerwindow)\n",
    "\n",
    "ig = IsingGraph(architecture = [(28,28, Discrete), (32,32, Discrete)], sets = [(0,1),(0,1)], precision = Float64)\n",
    "simulate(ig, overwrite = true)\n",
    "set_colorrange(ig[1])\n",
    "\n",
    "InteractiveIsing.loadparameters(ig, \"rbm_data.jld2\")\n",
    "w2 = LayerWindow(ig[2])\n"
   ]
  },
  {
   "cell_type": "markdown",
   "metadata": {},
   "source": [
    "# Visualizing the Connections"
   ]
  },
  {
   "cell_type": "code",
   "execution_count": 18,
   "metadata": {},
   "outputs": [
    {
     "name": "stdout",
     "output_type": "stream",
     "text": [
      "Imgsize = (28, 28)\n"
     ]
    }
   ],
   "source": [
    "include(\"ImageGrid.jl\")\n",
    "creategrid(conns(ig[1],ig[2]), (28,28), (5,5))"
   ]
  },
  {
   "cell_type": "code",
   "execution_count": 17,
   "metadata": {},
   "outputs": [
    {
     "data": {
      "text/plain": [
       "1-element BitVector:\n",
       " 1"
      ]
     },
     "metadata": {},
     "output_type": "display_data"
    }
   ],
   "source": [
    "pause(ig)"
   ]
  },
  {
   "cell_type": "code",
   "execution_count": 14,
   "metadata": {},
   "outputs": [],
   "source": [
    "restart(ig)"
   ]
  },
  {
   "cell_type": "code",
   "execution_count": null,
   "metadata": {},
   "outputs": [],
   "source": []
  }
 ],
 "metadata": {
  "kernelspec": {
   "display_name": "Julia 1.10.1",
   "language": "julia",
   "name": "julia-1.10"
  },
  "language_info": {
   "file_extension": ".jl",
   "mimetype": "application/julia",
   "name": "julia",
   "version": "1.10.1"
  }
 },
 "nbformat": 4,
 "nbformat_minor": 2
}
