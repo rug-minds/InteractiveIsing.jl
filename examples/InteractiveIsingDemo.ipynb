{
 "cells": [
  {
   "cell_type": "code",
   "execution_count": 1,
   "metadata": {},
   "outputs": [
    {
     "name": "stderr",
     "output_type": "stream",
     "text": [
      "\u001b[32m\u001b[1m  Activating\u001b[22m\u001b[39m project at `~/Library/Mobile Documents/com~apple~CloudDocs/Documents/PhD/JuliaProjects/InteractiveIsing.jl`\n",
      "objc[18615]: Class QMacAutoReleasePoolTracker is implemented in both /Users/fabian/.julia/artifacts/ed8b0e21b28aaf4ed991d176af731a3194ed83c6/lib/QtCore.framework/Versions/A/QtCore (0x2b0015430) and /Users/fabian/.julia/artifacts/b37aebc8943f796682edea53e2ec10463bf624ac/lib/QtCore.framework/Versions/5/QtCore (0x2c30c52d8). One of the two will be used. Which one is undefined.\n",
      "objc[18615]: Class QT_ROOT_LEVEL_POOL__THESE_OBJECTS_WILL_BE_RELEASED_WHEN_QAPP_GOES_OUT_OF_SCOPE is implemented in both /Users/fabian/.julia/artifacts/ed8b0e21b28aaf4ed991d176af731a3194ed83c6/lib/QtCore.framework/Versions/A/QtCore (0x2b00154a8) and /Users/fabian/.julia/artifacts/b37aebc8943f796682edea53e2ec10463bf624ac/lib/QtCore.framework/Versions/5/QtCore (0x2c30c5350). One of the two will be used. Which one is undefined.\n",
      "objc[18615]: Class KeyValueObserver is implemented in both /Users/fabian/.julia/artifacts/ed8b0e21b28aaf4ed991d176af731a3194ed83c6/lib/QtCore.framework/Versions/A/QtCore (0x2b00154d0) and /Users/fabian/.julia/artifacts/b37aebc8943f796682edea53e2ec10463bf624ac/lib/QtCore.framework/Versions/5/QtCore (0x2c30c5378). One of the two will be used. Which one is undefined.\n",
      "objc[18615]: Class RunLoopModeTracker is implemented in both /Users/fabian/.julia/artifacts/ed8b0e21b28aaf4ed991d176af731a3194ed83c6/lib/QtCore.framework/Versions/A/QtCore (0x2b0015520) and /Users/fabian/.julia/artifacts/b37aebc8943f796682edea53e2ec10463bf624ac/lib/QtCore.framework/Versions/5/QtCore (0x2c30c53c8). One of the two will be used. Which one is undefined.\n",
      "objc[18615]: Class QCocoaPageLayoutDelegate is implemented in both /Users/fabian/.julia/artifacts/ed8b0e21b28aaf4ed991d176af731a3194ed83c6/lib/QtPrintSupport.framework/Versions/A/QtPrintSupport (0x2af2f9888) and /Users/fabian/.julia/artifacts/b37aebc8943f796682edea53e2ec10463bf624ac/lib/QtPrintSupport.framework/Versions/5/QtPrintSupport (0x2c03791f8). One of the two will be used. Which one is undefined.\n",
      "objc[18615]: Class QCocoaPrintPanelDelegate is implemented in both /Users/fabian/.julia/artifacts/ed8b0e21b28aaf4ed991d176af731a3194ed83c6/lib/QtPrintSupport.framework/Versions/A/QtPrintSupport (0x2af2f9900) and /Users/fabian/.julia/artifacts/b37aebc8943f796682edea53e2ec10463bf624ac/lib/QtPrintSupport.framework/Versions/5/QtPrintSupport (0x2c0379270). One of the two will be used. Which one is undefined.\n"
     ]
    }
   ],
   "source": [
    "# Activate the environment\n",
    "using Pkg\n",
    "Pkg.activate(\"../\")\n",
    "\n",
    "using InteractiveIsing\n",
    "using ColorSchemes\n",
    "using Distributions"
   ]
  },
  {
   "attachments": {},
   "cell_type": "markdown",
   "metadata": {},
   "source": [
    "# Start the simulation"
   ]
  },
  {
   "cell_type": "code",
   "execution_count": 2,
   "metadata": {},
   "outputs": [],
   "source": [
    "# Create the simulation with inital parameters\n",
    "const sim = IsingSim(\n",
    "    200,\n",
    "    400,\n",
    "    periodic = true,\n",
    "    continuous = true, \n",
    "    weighted = true,\n",
    "    colorscheme = ColorSchemes.winter\n",
    ");\n",
    "\n",
    "# Give the graph a name and run the similation\n",
    "const g = sim(true);"
   ]
  },
  {
   "attachments": {},
   "cell_type": "markdown",
   "metadata": {},
   "source": [
    "# Add more layers"
   ]
  },
  {
   "cell_type": "code",
   "execution_count": 3,
   "metadata": {},
   "outputs": [
    {
     "name": "stdout",
     "output_type": "stream",
     "text": [
      "Pausing sim\n",
      "Unpausing sim\n",
      "Pausing sim\n",
      "Unpausing sim\n"
     ]
    },
    {
     "data": {
      "text/plain": [
       "(0, 0, -1)"
      ]
     },
     "execution_count": 3,
     "metadata": {},
     "output_type": "execute_result"
    }
   ],
   "source": [
    "# Add a layer with given dimensions\n",
    "addLayer!(sim, 400, 400)\n",
    "addLayer!(sim, 400, 400)\n",
    "\n",
    "# Give the layers names to refer to\n",
    "# name them l1, l2, l3 ...\n",
    "@enumeratelayers layers(g) 3\n",
    "\n",
    "# Give the layers coordinates\n",
    "# Set first layer at (x,y,z) = (0,0,-1)\n",
    "setcoords!(l1, z = -1)\n",
    "# Set second layer at (0,0,0)\n",
    "setcoords!(l2)\n",
    "# Set third layer at (0,0,1)\n",
    "setcoords!(l3, z = -1)"
   ]
  },
  {
   "attachments": {},
   "cell_type": "markdown",
   "metadata": {},
   "source": [
    "# Internally connect the layers with arbitrary function"
   ]
  },
  {
   "cell_type": "code",
   "execution_count": 4,
   "metadata": {},
   "outputs": [],
   "source": [
    "# Connect the vertices at most 2 nearest neighbors away\n",
    "# And with weight inversely proportional to dr^2\n",
    "const wg1 = @WG \"(dr) -> dr == 1 ? 1 : 0\" NN = 1\n",
    "\n",
    "# Only connect if distance is exactly 1\n",
    "const wg2 = @WG \"(dr) -> 1/(dr^2)\" NN = 2\n",
    "\n",
    "# Weights have gaussian noise with mean 0 and std 0.1 \n",
    "# on top of the weights as specified by the function\n",
    "const wg3 = @WG \"(dr) -> dr == 1 ? 1 : 0\" NN = 1 addDist = \"Normal(0,0.1)\"\n",
    "\n",
    "\n",
    "genAdj!(l1, wg1);\n",
    "genAdj!(l2, wg2);\n",
    "genAdj!(l3, wg3);"
   ]
  },
  {
   "attachments": {},
   "cell_type": "markdown",
   "metadata": {},
   "source": [
    "# Connect the layers with simple weights going only up"
   ]
  },
  {
   "cell_type": "code",
   "execution_count": 5,
   "metadata": {},
   "outputs": [],
   "source": [
    "connectLayers!(g, 1, 2, (;dr, _...) -> 1, 1)\n",
    "connectLayers!(g, 2, 3, (;dr, _...) -> 1, 1)"
   ]
  },
  {
   "attachments": {},
   "cell_type": "markdown",
   "metadata": {},
   "source": [
    "# Add a constant magnetic field to a layer"
   ]
  },
  {
   "cell_type": "code",
   "execution_count": 6,
   "metadata": {},
   "outputs": [
    {
     "name": "stdout",
     "output_type": "stream",
     "text": [
      "Cannot choose layer idx smaller than 1 or larger than the number of layers\n"
     ]
    }
   ],
   "source": [
    "# Constant magnetic field\n",
    "setMFunc!(l2, (;x,y) -> sin(x/10 * pi))"
   ]
  },
  {
   "cell_type": "code",
   "execution_count": 7,
   "metadata": {},
   "outputs": [],
   "source": [
    "# Remove the magnetic field\n",
    "remM!(l2)"
   ]
  },
  {
   "attachments": {},
   "cell_type": "markdown",
   "metadata": {},
   "source": [
    "# Add magnetic field on a timer"
   ]
  },
  {
   "cell_type": "code",
   "execution_count": 8,
   "metadata": {},
   "outputs": [
    {
     "data": {
      "text/plain": [
       "Timer(Ptr{Nothing} @0x000000030926afb0, Base.GenericCondition{Base.Threads.SpinLock}(Base.IntrusiveLinkedList{Task}(nothing, nothing), Base.Threads.SpinLock(0)), true, false)"
      ]
     },
     "execution_count": 8,
     "metadata": {},
     "output_type": "execute_result"
    }
   ],
   "source": [
    "# Timed magnetic field\n",
    "setMFuncTimer!(l2, (;x,y,t) -> sin(t/4*pi)*sin(x/10 * pi))"
   ]
  },
  {
   "cell_type": "code",
   "execution_count": 9,
   "metadata": {},
   "outputs": [],
   "source": [
    "# Remove the timers\n",
    "removeTimers!(sim)"
   ]
  },
  {
   "attachments": {},
   "cell_type": "markdown",
   "metadata": {},
   "source": [
    "# Image Denoising Tutorial"
   ]
  },
  {
   "cell_type": "code",
   "execution_count": 12,
   "metadata": {},
   "outputs": [
    {
     "ename": "LoadError",
     "evalue": "DimensionMismatch: first array has length 160000 which does not match the length of the second, 79692.",
     "output_type": "error",
     "traceback": [
      "DimensionMismatch: first array has length 160000 which does not match the length of the second, 79692.",
      "",
      "Stacktrace:",
      " [1] dot(x::Vector{Float32}, y::SubArray{Float32, 1, Vector{Float32}, Tuple{Vector{Int64}}, false})",
      "   @ LinearAlgebra /Applications/Julia-1.9.app/Contents/Resources/julia/share/julia/stdlib/v1.9/LinearAlgebra/src/generic.jl:881",
      " [2] *",
      "   @ /Applications/Julia-1.9.app/Contents/Resources/julia/share/julia/stdlib/v1.9/LinearAlgebra/src/adjtrans.jl:434 [inlined]",
      " [3] \\(a::SubArray{Float32, 1, Vector{Float32}, Tuple{Vector{Int64}}, false}, b::SubArray{Float32, 1, Vector{Float32}, Tuple{Vector{Int64}}, false})",
      "   @ LinearAlgebra /Applications/Julia-1.9.app/Contents/Resources/julia/share/julia/stdlib/v1.9/LinearAlgebra/src/generic.jl:1120",
      " [4] top-level scope",
      "   @ In[12]:4"
     ]
    }
   ],
   "source": [
    "# First remove the first layer\n",
    "# removeLayer!(sim,1)\n",
    "# Clamp the image the layer 1\n",
    "clampImg!(g, 1, \"smileys.jpg\")\\\n",
    "# Overlay noise to the image\n",
    "overlayNoise!(g, 1, 50, noise_values = [-1,1])\n"
   ]
  },
  {
   "cell_type": "code",
   "execution_count": 17,
   "metadata": {},
   "outputs": [
    {
     "data": {
      "text/plain": [
       "\"/Users/fabian/Library/Mobile Documents/com~apple~CloudDocs/Documents/PhD/JuliaProjects/InteractiveIsing.jl/examples/DataIsing Corrplot 0 d0 T0.png\""
      ]
     },
     "execution_count": 17,
     "metadata": {},
     "output_type": "execute_result"
    },
    {
     "name": "stdout",
     "output_type": "stream",
     "text": [
      "Pausing sim\n",
      "Unpausing sim\n"
     ]
    }
   ],
   "source": [
    "plotCorr(correlationLength(l1)...)"
   ]
  },
  {
   "cell_type": "code",
   "execution_count": null,
   "metadata": {},
   "outputs": [],
   "source": []
  }
 ],
 "metadata": {
  "kernelspec": {
   "display_name": "Julia (8 threads) 1.9.1",
   "language": "julia",
   "name": "julia-_8-threads_-1.9"
  },
  "language_info": {
   "file_extension": ".jl",
   "mimetype": "application/julia",
   "name": "julia",
   "version": "1.9.1"
  },
  "orig_nbformat": 4
 },
 "nbformat": 4,
 "nbformat_minor": 2
}
